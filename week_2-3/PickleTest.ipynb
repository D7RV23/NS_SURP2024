{
 "cells": [
  {
   "cell_type": "code",
   "execution_count": 5,
   "id": "2abac6ed-458d-4390-b158-8fde074690b6",
   "metadata": {},
   "outputs": [
    {
     "name": "stdout",
     "output_type": "stream",
     "text": [
      "dict_keys(['DNS_CMF_wcrust/', 'DS_CMF1_wcrust/', 'DS_CMF2_wcrust/', 'DS_CMF3_wcrust/', 'DS_CMF4_wcrust/', 'DS_CMF5_wcrust/', 'DS_CMF6_wcrust/', 'DS_CMF7_wcrust/', 'DS_CMF8_wcrust/', 'OPGR_DDHdeltaY4/', 'OPGR_GM1Y4/', 'OPGR_GM1Y5/', 'OPGR_GM1Y6/', 'QMC-RMF1/', 'QMC-RMF2/', 'QMC-RMF3/', 'QMC-RMF4/', 'R_DD2YDelta_1.1/', 'R_DD2YDelta_1.2/', 'R_DD2YDelta_1.3/'])\n",
      "\n",
      "dict_keys(['nbmin', 'nbmax', 'nbs', 'rhos', 'ps', 'rho_keys', 'p_keys'])\n"
     ]
    }
   ],
   "source": [
    "#declaring libraries\n",
    "import pickle\n",
    "#acceses the pickle file with all the Neutron star data, if you dont have the file, or the adress is wrong then the program wont run\n",
    "pickleContents = open ( r\"C:\\Users\\DGama\\OneDrive\\Documents\\School\\poly\\SURP-2024\\NS_SURP2024\\week_2-3\\eostable.pk\", \"rb\" )\n",
    "\n",
    "pickle = pickle.load(pickleContents)\n",
    "\n",
    "print(pickle.keys())\n",
    "print()\n",
    "print(pickle[\"DS_CMF1_wcrust/\"].keys())"
   ]
  }
 ],
 "metadata": {
  "kernelspec": {
   "display_name": "Python 3 (ipykernel)",
   "language": "python",
   "name": "python3"
  },
  "language_info": {
   "codemirror_mode": {
    "name": "ipython",
    "version": 3
   },
   "file_extension": ".py",
   "mimetype": "text/x-python",
   "name": "python",
   "nbconvert_exporter": "python",
   "pygments_lexer": "ipython3",
   "version": "3.11.7"
  }
 },
 "nbformat": 4,
 "nbformat_minor": 5
}
