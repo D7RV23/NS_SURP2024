{
 "cells": [
  {
   "cell_type": "code",
   "execution_count": 1,
   "metadata": {},
   "outputs": [],
   "source": [
    "#ESSENSIALS\n",
    "\n",
    "\n",
    "#importing the needed libraries\n",
    "import pickle\n",
    "import math\n",
    "import numpy as np\n",
    "\n",
    "#importing matplotlib\n",
    "import matplotlib.pyplot as plt\n",
    "from matplotlib.cm import winter\n",
    "\n",
    "%matplotlib inline\n",
    "#gets pickle files from directories\n",
    "pickleContents = open ( r\"C:\\Users\\DGama\\OneDrive\\Documents\\School\\poly\\SURP-2024\\NS_SURP2024\\week_2-3\\eostable.pk\", \"rb\" )\n",
    "eos_db = pickle.load(pickleContents)\n",
    "#print (pickle.keys())"
   ]
  },
  {
   "cell_type": "code",
   "execution_count": 55,
   "metadata": {},
   "outputs": [
    {
     "name": "stdout",
     "output_type": "stream",
     "text": [
      "['DNS_CMF_wcrust/', 'DS_CMF1_wcrust/', 'DS_CMF2_wcrust/', 'DS_CMF3_wcrust/', 'DS_CMF4_wcrust/', 'DS_CMF5_wcrust/', 'DS_CMF6_wcrust/', 'DS_CMF7_wcrust/', 'DS_CMF8_wcrust/', 'OPGR_DDHdeltaY4/', 'OPGR_GM1Y4/', 'OPGR_GM1Y5/', 'OPGR_GM1Y6/', 'QMC-RMF1/', 'QMC-RMF2/', 'QMC-RMF3/', 'QMC-RMF4/', 'R_DD2YDelta_1.1/', 'R_DD2YDelta_1.2/', 'R_DD2YDelta_1.3/']\n"
     ]
    }
   ],
   "source": [
    "#GETTING EOS\n",
    "\n",
    "#My though is to have a 2D list that itself contain the p and rho list for each EOS\n",
    "\n",
    "#maybe copy and paste EVERY KEY manually\n",
    "\n",
    "#EOS_keys = [\"DNS_CMF_wcrust/\", \"DS_CMF1_wcrust/\", \"DS_CMF2_wcrust/\", \"DS_CMF3_wcrust/\", \"DS_CMF4_wcrust/\", \n",
    "#            \"DS_CMF5_wcrust/\", \"DS_CMF6_wcrust/\", \"DS_CMF7_wcrust/\", \"DS_CMF8_wcrust/\", \"OPGR_DDHdeltaY4/\",\n",
    "#            \"OPGR_GM1Y4/\", \"OPGR_GM1Y5/\", \"OPGR_GM1Y6/\", \"QMC-RMF1/\", \"QMC-RMF2/\", \"QMC-RMF3/\", \"QMC-RMF4/\",\n",
    "#            \"R_DD2YDelta_1.1/\", \"R_DD2YDelta_1.2/\", \"R_DD2YDelta_1.3/\"] \n",
    "\n",
    "EOS_keys = []\n",
    "ps_local = []\n",
    "rhos_local =[]\n",
    "rhos_cs=[2e14,2.25e14,2.5e14,2.75e14,3e14,3.25e14,3.5e14,3.75e14,4e14,4.25e14,4.5e14,4.75e14,5e14,5.5e14,\n",
    "                6e14,6.5e14,7e14,7.5e14,8e14,8.5e14,9e14,9.5e14,10e14,10.5e14,\n",
    "                11e14,12e14,13e14,14e14,15e14,16e14,17e14,18e14,19e14,20e14,\n",
    "                21e14,22e14,23e14,24e14,25e14,26e14,27e14,28e14,29e14,30e14]\n",
    "#fill out every EOS name\n",
    "for i in eos_db.keys():\n",
    "    EOS_keys.append(i)\n",
    "    \n",
    "print(EOS_keys)\n"
   ]
  },
  {
   "cell_type": "code",
   "execution_count": 4,
   "metadata": {},
   "outputs": [],
   "source": [
    "#getting ps and rho from the EOS\n",
    "\n",
    "def get_p_local(key):\n",
    "    return eos_db[key]['ps']"
   ]
  },
  {
   "cell_type": "code",
   "execution_count": 5,
   "metadata": {},
   "outputs": [],
   "source": [
    "#getting ps and rho from the EOS\n",
    "\n",
    "def get_rho_local(key):\n",
    "    return eos_db[key]['rhos']"
   ]
  },
  {
   "cell_type": "code",
   "execution_count": 7,
   "metadata": {},
   "outputs": [],
   "source": [
    "p_local = get_p_local('DS_CMF1_wcrust/')\n",
    "rho_local = get_rho_local('DS_CMF1_wcrust/')"
   ]
  },
  {
   "cell_type": "code",
   "execution_count": 32,
   "metadata": {},
   "outputs": [],
   "source": [
    "##\n",
    "#rhos to ps subroutine\n",
    "def rho_to_ps(rho_target):\n",
    "    #rho_local = get_rho_local(eos_key)\n",
    "    for x in range(len(rho_local)-1):\n",
    "        \n",
    "        #p_local = x\n",
    "    #first case: when the p_targer is less that the first value of the p_local\n",
    "        if rho_target < rho_local[0]:\n",
    "                rho_target = rho_local[0]\n",
    "                x = 0\n",
    "                break\n",
    "    #second case: when the p_target is greater than the last value of the p_local    \n",
    "        if rho_target >= rho_local[-1]:\n",
    "                #have to do this as otherwise it would try to access a value that does not exist\n",
    "                rho_target = rho_local[-1]\n",
    "                x = len(rho_local)-2\n",
    "                break\n",
    "    #Deafult case, When the rho target is between the given parameters needed\n",
    "        if rho_local[x] < rho_target and rho_local[x+1] > rho_target:\n",
    "                #local = x\n",
    "                break\n",
    "    #Equation used:  \n",
    "    #print(\"p_Local: \",p_local[x])\n",
    "    p_target = p_local[x] + (((p_local[x+1] - p_local[x]) / (rho_local[x+1] - rho_local[x])) * (rho_target - rho_local[x]))\n",
    "    \n",
    "    return p_target\n",
    "##"
   ]
  },
  {
   "cell_type": "code",
   "execution_count": 33,
   "metadata": {},
   "outputs": [],
   "source": [
    "#ps_to_rhos routine\n",
    "def ps_to_rho(p_target):\n",
    "    #p_local = get_p_local(eos_key)\n",
    "    #rho_local = x\n",
    "    for x in range(len(rho_local)-1):\n",
    "    #first case: when the p_targer is less that the first value of the p_local\n",
    "        if p_target < p_local[0]:\n",
    "                p_target = p_local[0]\n",
    "                x = 0\n",
    "                break\n",
    "    #second case: when the p_target is greater than the last value of the p_local    \n",
    "        if p_target >= p_local[-1]:\n",
    "                #have to do this as otherwise it would try to access a value that does not exist\n",
    "                p_target = p_local[-1]\n",
    "                x = len(p_local)-2\n",
    "                break\n",
    "    #Deafult case, When the rho target is between the given parameters needed\n",
    "        if p_local[x] < p_target and p_local[x+1] > p_target:\n",
    "                #local = x\n",
    "                break\n",
    "   # print(\"rho_Local:\",rho_local[x],)\n",
    "    rho_target = rho_local[x] + (((rho_local[x+1] - rho_local[x]) / (p_local[x+1] - p_local[x])) * (p_target - p_local[x]))\n",
    "    return rho_target\n",
    "##"
   ]
  },
  {
   "cell_type": "code",
   "execution_count": 36,
   "metadata": {},
   "outputs": [],
   "source": [
    "##\n",
    "#rhos to ps subroutine\n",
    "def rho_to_ps(rho_target):\n",
    "    for x in range(len(rho_local)-1):\n",
    "        \n",
    "        #p_local = x\n",
    "    #first case: when the p_targer is less that the first value of the p_local\n",
    "        if rho_target < rho_local[0]:\n",
    "                rho_target = rho_local[0]\n",
    "                x = 0\n",
    "                break\n",
    "    #second case: when the p_target is greater than the last value of the p_local    \n",
    "        if rho_target >= rho_local[-1]:\n",
    "                #have to do this as otherwise it would try to access a value that does not exist\n",
    "                rho_target = rho_local[-1]\n",
    "                x = len(rho_local)-2\n",
    "                break\n",
    "    #Deafult case, When the rho target is between the given parameters needed\n",
    "        if rho_local[x] < rho_target and rho_local[x+1] > rho_target:\n",
    "                #local = x\n",
    "                break\n",
    "    #Equation used:  \n",
    "    #print(\"p_Local: \",p_local[x])\n",
    "    p_target = p_local[x] + (((p_local[x+1] - p_local[x]) / (rho_local[x+1] - rho_local[x])) * (rho_target - rho_local[x]))\n",
    "    \n",
    "    return p_target\n",
    "##"
   ]
  },
  {
   "cell_type": "code",
   "execution_count": 12,
   "metadata": {},
   "outputs": [],
   "source": [
    "#dp function\n",
    "def dPdr(ps, rhos ,rs,  ms):\n",
    "    #speed of ligth\n",
    "    c = 2.99792458e10\n",
    "    #Gravitational constant\n",
    "    G = 6.6743e-8\n",
    "    #Pi\n",
    "    pi = math.pi\n",
    "\n",
    "    \n",
    "    mr = ms\n",
    "    r = rs\n",
    "    rho = rhos\n",
    "    p = ps\n",
    "    #dPdr equation\n",
    "    dPdr = (-(G*mr*rho)/(r**2))*(1+(p)/(rho*c**2))*(1+((4*pi*r**3*p)/(mr*c**2)))*((1-((2*G*mr)/(c**2*r)))**-1)\n",
    "    return dPdr"
   ]
  },
  {
   "cell_type": "code",
   "execution_count": 13,
   "metadata": {},
   "outputs": [],
   "source": [
    "#dm function\n",
    "def dmdr(rs,rhos):\n",
    "    \"\"\"Find the dmdr for future equations\n",
    "\n",
    "    INPUT: rs as radius, and rhos for density    \n",
    "    OUTPUT: the dmdr using the corresponding values\n",
    "    NOTES: using 'math.pi' for calculations\n",
    "    \"\"\"\n",
    "    r = rs\n",
    "    rho = rhos\n",
    "    #dmdr equation\n",
    "    dmdr = 4*math.pi*r**2*rho\n",
    "    return dmdr"
   ]
  },
  {
   "cell_type": "code",
   "execution_count": 14,
   "metadata": {},
   "outputs": [],
   "source": [
    "\n",
    "def find_mass(ms):\n",
    "    return ms[-1]\n",
    "def find_radius(rs):\n",
    "    return rs[-1]"
   ]
  },
  {
   "cell_type": "code",
   "execution_count": 15,
   "metadata": {},
   "outputs": [],
   "source": [
    "#Runge-Kutta Routine\n",
    "\n",
    "def runge_kutta(rho_c,dr,loops = 20000,debug=0):\n",
    "    \"\"\"\n",
    "    INPUT:\n",
    "        'rho_c' as 'rho'(density).'dr' as r,'loops' as the number of iterations preformed, set to 10000 by deafult.\n",
    "    OUTPUT:\n",
    "        rs,rhos,ps,ms arrays, containing the gatherd data from doing Runge Kutta method on Tolman\n",
    "        Oppenheimer Volkoff equation. \n",
    "        \n",
    "    \"\"\" \n",
    "    loop = loops\n",
    "    #get the values from the end user to the function\n",
    "    r = dr\n",
    "    rho = rho_c\n",
    "    #Constants\n",
    "    #\n",
    "    #speed of ligth\n",
    "    c = 2.99792458e10\n",
    "    #Gravitational constant\n",
    "    G = 6.6743e-8\n",
    "    #Pi\n",
    "    pi = math.pi\n",
    "    #\n",
    "    p = rho_to_ps(rho)\n",
    "    #value of mr, im assuming that this will remain the same from euler method\n",
    "    mr = 4.0 /3.0 * pi * r**3 * rho\n",
    "    #\n",
    "    #array creation for storing the values for model analizys\n",
    "    rs = [r]\n",
    "    rhos = [rho]\n",
    "    ps = [p]\n",
    "    ms = [mr]\n",
    "   ### \n",
    "\n",
    "   #To the poor person reading this code in a year or 2, i added the ability to declare the loop iterations because I felt lazy \n",
    "   #from having tochange that value every time i changed dr,I dont know why i did not do this to begin with but i digress\n",
    "   # Dingo 24/6/2024\n",
    "\n",
    "\n",
    "   #another note, I added a bool called debug, so it would not print out if the limit of the function has been broken every time i run this\n",
    "   #subroutine, if you modify this then that oculd eb used for other debug purposes i suppose\n",
    "   # Dingo 26/6/2026\n",
    "    for i in range (loops):\n",
    "\n",
    "        #rk i function\n",
    "        dPdr_1 = dPdr(p,rho,r,mr)\n",
    "        dmdr_1 = dmdr(r,rho)\n",
    "        #rk i values\n",
    "        mr_1 = mr + dmdr_1 * dr*(1/2)\n",
    "        p_1 = p + dPdr_1 * dr*(1/2)\n",
    "\n",
    "        rho_1 = ps_to_rho(p_1)\n",
    "        r_1 = r + dr*(1/2)\n",
    "\n",
    "\n",
    "\n",
    "        #rk ii function\n",
    "        dPdr_2 = dPdr(p_1,rho_1,r_1,mr_1)\n",
    "        dmdr_2 = dmdr(r_1,rho_1)\n",
    "        #rk ii values\n",
    "\n",
    "        mr_2 = mr_1 + dmdr_2 * dr*(1/2)\n",
    "        p_2 = p_1 + dPdr_2 * dr*(1/2)\n",
    "\n",
    "        rho_2 = ps_to_rho(p_2)\n",
    "        r_2 = r_1 + dr*(1/2)\n",
    "\n",
    "\n",
    "\n",
    "        #rk iii function\n",
    "        dPdr_3 = dPdr(p_2,rho_2,r_2,mr_2)\n",
    "        dmdr_3 = dmdr(r_2,rho_2)\n",
    "        #rk iii values\n",
    "        mr_3 = mr_2 + dmdr_3 * dr\n",
    "        p_3 = p_2 + dPdr_3 * dr\n",
    "\n",
    "        rho_3 = ps_to_rho(p_3)\n",
    "        r_3 = r_2 + dr\n",
    "\n",
    "\n",
    "        \n",
    "        #rk iv function\n",
    "        dPdr_4 = dPdr(p,rho,r,mr)\n",
    "        dmdr_4 = dmdr(r,rho)\n",
    "        #rk iv values\n",
    "        mr_4 = mr_3 + dmdr_4 * dr*(1/2)\n",
    "        p_4 = p_3 + dPdr_4 * dr*(1/2)\n",
    "\n",
    "        rho_4 = ps_to_rho(p_4)\n",
    "        r_4 = r_3 + dr\n",
    "\n",
    "        #get new values\n",
    "\n",
    "        m_new = mr + ((dmdr_1/6)+(dmdr_2/3)+(dmdr_3/3)+(dmdr_4/6)) * dr\n",
    "        r_new = r + dr\n",
    "        p_new = p + ((dPdr_1/6)+(dPdr_2/3)+(dPdr_3/3)+(dPdr_4/6)) * dr\n",
    "        \n",
    "        rho_new = ps_to_rho(p_new)\n",
    "# append the new data\n",
    "        rs.append(r_new)\n",
    "        ps.append(p_new)\n",
    "        ms.append(m_new)\n",
    "        rhos.append(rho_new)\n",
    "        \n",
    "        # replace old by your new values\n",
    "        r = r_new\n",
    "        rho = rho_new\n",
    "        p = p_new\n",
    "        mr = m_new\n",
    "        if rho < 1e-4 * rho_c:\n",
    "            #following 2 lines should be commented after debugging is done\n",
    "            if debug == 1:\n",
    "                print(\"break condition met!\")\n",
    "                print(rho , \" < \", 1**-4*rho_c)\n",
    "            break\n",
    "    \n",
    "    return rs, rhos, ps, ms     \n",
    "\n"
   ]
  },
  {
   "cell_type": "code",
   "execution_count": 17,
   "metadata": {},
   "outputs": [],
   "source": [
    "p_local = get_p_local('DS_CMF1_wcrust/')\n",
    "rho_local = get_rho_local ('DS_CMF1_wcrust/')"
   ]
  },
  {
   "cell_type": "code",
   "execution_count": 30,
   "metadata": {},
   "outputs": [],
   "source": [
    "#gen ns function\n",
    "def gen_ns(rho_c,ds,loops,eos_key):\n",
    "    \"\"\"\n",
    "\n",
    "\n",
    "    \"\"\"\n",
    "    rs, rhos, ps, ms = runge_kutta(rho_c,ds,loops)\n",
    "    return rs,rhos,ps,ms"
   ]
  },
  {
   "cell_type": "code",
   "execution_count": 43,
   "metadata": {},
   "outputs": [],
   "source": [
    "def print_ns_MR(radius,mass):\n",
    "\n",
    "    #radius = np.array(radius) / 1e5\n",
    "    #mass = np.array(mass) / 2e33\n",
    "    fig, ax = plt.subplots(ncols=1, nrows=1)\n",
    "    x = radius\n",
    "    ax.set_xlabel('Radius rhos')\n",
    "    # Y-axis values \n",
    "    y = mass\n",
    "    ax.set_ylabel('Solar mass ms')\n",
    "    # Function to plot \n",
    "    ax.plot(x, y, \"-o\")\n",
    "    # function to show the plot \n",
    "    # plt.show()\n",
    "    return plt"
   ]
  },
  {
   "cell_type": "code",
   "execution_count": 53,
   "metadata": {},
   "outputs": [],
   "source": [
    "def store_NS():\n",
    "    \"\"\"\n",
    "    INPUT:  take data from a genetated Neutron Star model\n",
    "    OUTPUT: Store the information into a .txt document, to prevent from having to compile the data multiple times\n",
    "    \"\"\"\n",
    "    file = open(\"test.txt\",\"w\")\n",
    "    file.write(\"this is a test\")\n",
    "    file.close()\n",
    "\n",
    "    return (\"NS stored\")"
   ]
  },
  {
   "cell_type": "code",
   "execution_count": 39,
   "metadata": {},
   "outputs": [
    {
     "data": {
      "text/plain": [
       "<module 'matplotlib.pyplot' from 'c:\\\\Users\\\\DGama\\\\anaconda3\\\\Lib\\\\site-packages\\\\matplotlib\\\\pyplot.py'>"
      ]
     },
     "execution_count": 39,
     "metadata": {},
     "output_type": "execute_result"
    },
    {
     "data": {
      "image/png": "[encoded data removed]",
      "text/plain": [
       "<Figure size 640x480 with 1 Axes>"
      ]
     },
     "metadata": {},
     "output_type": "display_data"
    }
   ],
   "source": [
    "rs, rhos, ps, ms = gen_ns(1e15,4000,5000,'DS_CMF1_wcrust/')\n",
    "find_mass(ms)\n",
    "find_radius(rs)\n",
    "\n",
    "print_ns_MR(rs,ms)\n"
   ]
  },
  {
   "cell_type": "code",
   "execution_count": 56,
   "metadata": {},
   "outputs": [],
   "source": [
    "def gen_ns_MR(key_nb):\n",
    "        mass_cs = []   \n",
    "        radius_cs = []\n",
    "        for z in rhos_cs:\n",
    "                rs,rhos,ps,ms= gen_ns(z,2000,10000,EOS_keys[key_nb])\n",
    "                mass_cs.append(find_mass(ms)/2e33)\n",
    "                radius_cs.append(find_radius(rs)/1e5)\n",
    "        return radius_cs, mass_cs"
   ]
  },
  {
   "cell_type": "code",
   "execution_count": 49,
   "metadata": {},
   "outputs": [
    {
     "data": {
      "image/png": "[encoded data removed]",
      "text/plain": [
       "<Figure size 640x480 with 1 Axes>"
      ]
     },
     "metadata": {},
     "output_type": "display_data"
    }
   ],
   "source": [
    "\n",
    "radius_cs, mass_cs = gen_ns_MR(1)\n",
    "print_ns_MR(radius_cs,mass_cs )\n",
    "plt.show()"
   ]
  },
  {
   "cell_type": "code",
   "execution_count": 79,
   "metadata": {},
   "outputs": [],
   "source": [
    "def output_file(EOS,rs,rhos_c,ps,ms):\n",
    "    EOS = EOS_keys[1]\n",
    "    rhos_c = rhos_cs[1]\n",
    "    EOS =EOS.rstrip('/')\n",
    "    file = open(str(EOS)+\"_\"+str(rhos_c)+\".txt\",\"a\")\n",
    "    file.write(\"rs(cm)      ms(Msun)      rhos(g/cc)      Ps(gmc)\")\n",
    "    file.write(\"\")\n",
    "    file.close()\n",
    "    return(\"output is done\",)"
   ]
  },
  {
   "cell_type": "code",
   "execution_count": null,
   "metadata": {},
   "outputs": [],
   "source": [
    "def output_star_parameters(EOS, rhoc, mass, radius):\n",
    "    return"
   ]
  },
  {
   "cell_type": "code",
   "execution_count": 80,
   "metadata": {},
   "outputs": [
    {
     "name": "stdout",
     "output_type": "stream",
     "text": [
      "rs(cm) %4 ms(Msun) %4 rhos(g/cc)      Ps(gmc)\n"
     ]
    }
   ],
   "source": [
    "print (\"rs(cm)      ms(Msun)      rhos(g/cc)      Ps(gmc)\")"
   ]
  },
  {
   "cell_type": "code",
   "execution_count": 78,
   "metadata": {},
   "outputs": [
    {
     "name": "stdout",
     "output_type": "stream",
     "text": [
      "[4000, 8000, 12000, 16000, 20000, 24000, 28000, 32000, 36000, 40000, 44000, 48000, 52000, 56000, 60000, 64000, 68000, 72000, 76000, 80000, 84000, 88000, 92000, 96000, 100000, 104000, 108000, 112000, 116000, 120000, 124000, 128000, 132000, 136000, 140000, 144000, 148000, 152000, 156000, 160000, 164000, 168000, 172000, 176000, 180000, 184000, 188000, 192000, 196000, 200000, 204000, 208000, 212000, 216000, 220000, 224000, 228000, 232000, 236000, 240000, 244000, 248000, 252000, 256000, 260000, 264000, 268000, 272000, 276000, 280000, 284000, 288000, 292000, 296000, 300000, 304000, 308000, 312000, 316000, 320000, 324000, 328000, 332000, 336000, 340000, 344000, 348000, 352000, 356000, 360000, 364000, 368000, 372000, 376000, 380000, 384000, 388000, 392000, 396000, 400000, 404000, 408000, 412000, 416000, 420000, 424000, 428000, 432000, 436000, 440000, 444000, 448000, 452000, 456000, 460000, 464000, 468000, 472000, 476000, 480000, 484000, 488000, 492000, 496000, 500000, 504000, 508000, 512000, 516000, 520000, 524000, 528000, 532000, 536000, 540000, 544000, 548000, 552000, 556000, 560000, 564000, 568000, 572000, 576000, 580000, 584000, 588000, 592000, 596000, 600000, 604000, 608000, 612000, 616000, 620000, 624000, 628000, 632000, 636000, 640000, 644000, 648000, 652000, 656000, 660000, 664000, 668000, 672000, 676000, 680000, 684000, 688000, 692000, 696000, 700000, 704000, 708000, 712000, 716000, 720000, 724000, 728000, 732000, 736000, 740000, 744000, 748000, 752000, 756000, 760000, 764000, 768000, 772000, 776000, 780000, 784000, 788000, 792000, 796000, 800000, 804000, 808000, 812000, 816000, 820000, 824000, 828000, 832000, 836000, 840000, 844000, 848000, 852000, 856000, 860000, 864000, 868000, 872000, 876000, 880000, 884000, 888000, 892000, 896000, 900000, 904000, 908000, 912000, 916000, 920000, 924000, 928000, 932000, 936000, 940000, 944000, 948000, 952000, 956000, 960000, 964000, 968000, 972000, 976000, 980000, 984000, 988000, 992000, 996000, 1000000, 1004000, 1008000, 1012000, 1016000, 1020000, 1024000, 1028000, 1032000, 1036000, 1040000, 1044000, 1048000, 1052000, 1056000, 1060000, 1064000, 1068000, 1072000, 1076000, 1080000, 1084000, 1088000, 1092000, 1096000, 1100000, 1104000, 1108000, 1112000, 1116000, 1120000, 1124000, 1128000, 1132000, 1136000, 1140000, 1144000, 1148000, 1152000, 1156000, 1160000, 1164000, 1168000, 1172000, 1176000, 1180000]\n",
      "[225000000000000.0, 224995304707849.94, 224986266995733.78, 224973180400631.38, 224956124448966.34, 224935135295373.66, 224910233492875.16, 224881432515074.62, 224848742200171.72, 224812170384432.56, 224771723764664.0, 224727408390522.7, 224679229962803.03, 224627194022914.0, 224571306077942.6, 224511571685854.47, 224447996515088.03, 224380586387167.56, 224309347307740.47, 224234285489529.9, 224155407369517.7, 224072719621930.03, 223986229168115.5, 223895943184085.0, 223801869106266.44, 223704014635877.28, 223602387742212.94, 223496996665074.88, 223387849916506.66, 223274956281968.84, 223158324821052.0, 223037964867807.0, 222913886030754.0, 222786098192619.6, 222654611509841.03, 222519436411870.03, 222380583600301.22, 222238064047846.97, 222091888997175.84, 221942069959629.38, 221788618713828.66, 221631547304181.97, 221470868039300.94, 221306593490333.28, 221138736489218.34, 220967310126870.34, 220792327751294.8, 220613802965641.44, 220431749626197.78, 220246181840326.47, 220057113964348.8, 219864560601377.62, 219668536599101.2, 219469057047520.9, 219266137276643.97, 219059792854133.34, 218850039582916.44, 218636893498753.7, 218420370867769.22, 218200488183944.12, 217977262166574.12, 217750709757692.56, 217520848119460.06, 217267071911265.6, 216992507752623.25, 216714213318704.38, 216432213537174.56, 216146533552483.03, 215857198724755.0, 215564234628372.28, 215267667050270.88, 214967521987981.2, 214663825647434.3, 214356604440554.78, 214045884982658.75, 213731694089674.28, 213414058775199.12, 213093006247409.5, 212768563905833.03, 212440759337996.47, 212109620315959.34, 211775174792742.56, 211437450898661.12, 211096476937568.44, 210752281383020.25, 210404892874364.5, 210054340212763.56, 209700652357155.1, 209343858420156.16, 208983987663916.28, 208621069495924.12, 208255133464771.8, 207886209255881.34, 207514326687196.88, 207139515704846.56, 206761806378777.44, 206381228898366.28, 205997813568010.0, 205611590802698.03, 205222591123569.84, 204830845153459.9, 204436383612432.75, 204039237313310.56, 203639437157195.53, 203237014128989.0, 202831999292909.72, 202424423788013.25, 202014318823713.97, 201601715675312.3, 201186645679528.25, 200769140230043.16, 200284925902287.7, 199783400126101.66, 199279300458371.3, 198772672629707.88, 198263562276869.2, 197752014938975.2, 197238076053627.3, 196721790952942.7, 196203204859513.44, 195682362882301.1, 195159310012474.84, 194634091119202.28, 194106750945400.84, 193577334103457.4, 193045885070922.94, 192512448186189.5, 191977067644155.1, 191439787491883.2, 190900651624261.84, 190359703779667.94, 189816987535641.72, 189272546304575.94, 188726423329424.38, 188178661679433.7, 187629304245902.66, 187078393737972.28, 186525972678450.62, 185972083399675.34, 185416768039417.12, 184860068536826.88, 184302026628429.5, 183694739557684.1, 183014518596466.56, 182333271695852.47, 181651060334828.28, 180967945388848.8, 180283987128879.28, 179599245220454.53, 178913778722763.16, 178227646087763.56, 177540905159339.06, 176853613172497.62, 176165826752622.9, 175477601914780.8, 174788994063087.4, 174100057990142.28, 173410847876531.5, 172721417290404.06, 172031819187125.06, 171342105909009.16, 170652329185136.72, 169962540131255.38, 169272789249769.38, 168583126429818.47, 167893600947448.6, 167194794938702.34, 166335913494214.62, 165478265038621.25, 164621922558361.28, 163766957573350.4, 162913440149555.44, 162061438911642.53, 161211021055700.28, 160362252362037.06, 159515197208052.88, 158669918581184.62, 157826478091923.9, 156984935986905.88, 156145351162067.72, 155307781175874.56, 154472282262610.66, 153638909345733.62, 152807716051289.06, 151978754721382.6, 151152076427706.34, 150272422377750.7, 149212669480361.06, 148157747067311.34, 147107727254624.7, 146062679202089.1, 145022669168798.6, 143987760568362.53, 142958014023765.25, 141933487421857.75, 140914235967464.7, 139900312237089.94, 138891766232204.94, 137888645432104.52, 136890994846315.6, 135898857066544.94, 134912272318152.39, 133931278511137.23, 132662621725255.89, 131356606686982.19, 130061646552626.66, 128777771867233.69, 127505007700312.84, 126243373832514.66, 124992884938822.16, 123753550768226.28, 122525376319859.92, 121308362015570.45, 120102503868917.3, 118907793650585.42, 117724219050211.23, 116324092089494.4, 114656883237113.47, 113012936491812.58, 111392109308097.88, 109794249399215.25, 108219195375934.03, 106666777361930.97, 105136817586117.5, 103629130952284.62, 102143525586466.16, 100679803362445.45, 98592792380948.28, 96360789185151.45, 94180973360687.1, 92052404261948.92, 89974132946999.69, 87945204543855.73, 85964660442513.22, 84031540320868.11, 80888577845299.02, 77536084098695.19, 74329035977810.52, 71261583105386.53, 68328024629279.88, 47338029799194.625, 43238196493757.0, 38299985256360.2, 31663073911348.617, 20268830267163.613, 8228070462365.864, 5242134193497.753, 3679409624629.875, 2681316186517.288, 1990263158923.0056, 1495661956597.1396, 1135264634502.7478, 878426299003.7141, 703385889538.5421, 604568652033.042, 559925781873.0156, 518666975123.171, 479783914979.758, 444583807493.4701, 411997708642.9715, 381786459428.8453, 353771067967.26984, 327806957408.2945, 303714397430.0826, 281350258042.60614, 260578450302.51788, 241297013990.4509, 223387531868.15912, 206764846500.54666, 191312725728.89313, 176954444624.36722, 163607116355.65308, 151216250254.04437, 139694521355.81085, 128987922173.23897, 119040535740.24931, 109794770745.69485, 101214735257.62735, 93241193546.11005, 85842058756.4115, 78964267552.62248, 72585355451.1949, 66670507735.313644, 61178017271.48105, 56088347923.804306, 51372418761.889595, 47003755912.101616, 42959525050.613144, 39215596536.30334, 35756393373.37745, 32559583768.94769, 29605149571.440186, 26880598602.97052, 24368805007.809994, 22056622734.040386]\n",
      "[4.438110577264969e+33, 4.4378115700006845e+33, 4.4372360272040104e+33, 4.436402642001276e+33, 4.43531647882247e+33, 4.4339798400799113e+33, 4.4323940346384464e+33, 4.4305599205289014e+33, 4.428478124271004e+33, 4.4261491448966425e+33, 4.423573408874251e+33, 4.420751301460215e+33, 4.4176831856945515e+33, 4.414369414467236e+33, 4.4108103384825424e+33, 4.4070063116848165e+33, 4.402957695053567e+33, 4.3986648593171727e+33, 4.3941281869294104e+33, 4.389348073531122e+33, 4.3843249290444734e+33, 4.379059178499911e+33, 4.3735512626652165e+33, 4.3678016385256684e+33, 4.3618107796505125e+33, 4.3555791764714156e+33, 4.349107336491887e+33, 4.342395784441887e+33, 4.3354450623884066e+33, 4.3282557298102656e+33, 4.3208283636435336e+33, 4.3131635583025555e+33, 4.305261925680531e+33, 4.297124095132766e+33, 4.288750713445113e+33, 4.2801424447896224e+33, 4.2712999706690485e+33, 4.2622239898515626e+33, 4.2529152182967843e+33, 4.2433743890740533e+33, 4.233602252273712e+33, 4.2235995749120476e+33, 4.213367140830442e+33, 4.202905750589198e+33, 4.192216221356436e+33, 4.181299386792413e+33, 4.1701560969295605e+33, 4.158787218048497e+33, 4.147193632550254e+33, 4.1353762388249137e+33, 4.1233359511168345e+33, 4.111073699386638e+33, 4.098590429170092e+33, 4.0858871014340297e+33, 4.072964692429421e+33, 4.059824193541716e+33, 4.0464666111385526e+33, 4.0328929664149334e+33, 4.019104295235957e+33, 4.005101647977193e+33, 3.990886089362777e+33, 3.9764586983013007e+33, 3.961820567719578e+33, 3.9469733034219967e+33, 3.931919787763519e+33, 3.916661752485425e+33, 3.901200564295614e+33, 3.8855376017875704e+33, 3.869674255379635e+33, 3.853611927237186e+33, 3.837352031179297e+33, 3.820895992571293e+33, 3.8042452482044726e+33, 3.787401246164127e+33, 3.770365445686889e+33, 3.753139317008333e+33, 3.7357243412016546e+33, 3.7181220100082003e+33, 3.700333825660524e+33, 3.6823613006986035e+33, 3.6642059577797837e+33, 3.6458693294829725e+33, 3.6273529581075686e+33, 3.608658395467556e+33, 3.5897872026811774e+33, 3.5707409499565566e+33, 3.551521216373615e+33, 3.532129589662603e+33, 3.512567665979548e+33, 3.49283704967889e+33, 3.4729393530835664e+33, 3.4528761962527866e+33, 3.4326492067477267e+33, 3.412260019395349e+33, 3.3917102760505546e+33, 3.371001625356852e+33, 3.3501357225057225e+33, 3.329114228994848e+33, 3.3079388123853636e+33, 3.286611146058285e+33, 3.265132908970256e+33, 3.243505785408748e+33, 3.2217314647468524e+33, 3.199811641197781e+33, 3.177748013569201e+33, 3.155542285017511e+33, 3.13319616280218e+33, 3.1107113580402433e+33, 3.0880895854610616e+33, 3.0653325631614436e+33, 3.04244201236122e+33, 3.0194230263564014e+33, 2.996282616557508e+33, 2.9730234473489474e+33, 2.949647628742075e+33, 2.926157266417853e+33, 2.902554461552228e+33, 2.878841310637081e+33, 2.855019905297241e+33, 2.831092332104057e+33, 2.807060672385956e+33, 2.7829270020364244e+33, 2.7586933913197933e+33, 2.7343619046752105e+33, 2.709934600519137e+33, 2.685413531046706e+33, 2.6608007420322515e+33, 2.6360982726292947e+33, 2.611308155170264e+33, 2.586432414966211e+33, 2.5614730701067603e+33, 2.536432131260529e+33, 2.5113116014762275e+33, 2.4861134759846472e+33, 2.46083974200173e+33, 2.4354923785328957e+33, 2.4100733561788052e+33, 2.3845846369427118e+33, 2.3590281740395593e+33, 2.3334059117069673e+33, 2.307719785018236e+33, 2.281971719697499e+33, 2.2561658484735002e+33, 2.2303147825101428e+33, 2.2044247268235525e+33, 2.178498017856482e+33, 2.1525369691151113e+33, 2.126543871132644e+33, 2.100520991433554e+33, 2.0744705744987773e+33, 2.0483948417321212e+33, 2.0222959914281505e+33, 1.996176198741782e+33, 1.970037615659811e+33, 1.9438823709745658e+33, 1.917712570259884e+33, 1.8915302958495764e+33, 1.865337606818538e+33, 1.8391365389666505e+33, 1.812929104805605e+33, 1.7867172935487694e+33, 1.7605030711042004e+33, 1.7342883800709057e+33, 1.708075139738436e+33, 1.6818652460898865e+33, 1.6556605718083786e+33, 1.6294634568920133e+33, 1.60328949193843e+33, 1.5771531016796032e+33, 1.5510565103392718e+33, 1.5250018974496398e+33, 1.4989913982345737e+33, 1.4730271039950553e+33, 1.447111062496906e+33, 1.4212452783607843e+33, 1.3954317134544452e+33, 1.3696722872872415e+33, 1.3439688774068346e+33, 1.3183233197980724e+33, 1.2927374092839837e+33, 1.2672128999288319e+33, 1.2417515054431585e+33, 1.2163548995907465e+33, 1.1910247165974216e+33, 1.165762551561606e+33, 1.1405699608665353e+33, 1.1154515305845161e+33, 1.0904317040006408e+33, 1.0655259208704788e+33, 1.0407358837894155e+33, 1.0160632255587457e+33, 9.915095104969488e+32, 9.670762357431351e+32, 9.427648325522303e+32, 9.185766675814784e+32, 8.945130441678581e+32, 8.705752035960244e+32, 8.467643263563983e+32, 8.230815333930466e+32, 7.995278873410057e+32, 7.761043937527204e+32, 7.528120023132829e+32, 7.296516080441735e+32, 7.066480234271512e+32, 6.838341618609682e+32, 6.61213410665053e+32, 6.3878630340938316e+32, 6.165532780156547e+32, 5.945146800181912e+32, 5.726707657639882e+32, 5.510217055513378e+32, 5.2956758670658864e+32, 5.083084165986975e+32, 4.8724412559132716e+32, 4.6637456993233944e+32, 4.4569953458061906e+32, 4.252320903700112e+32, 4.0502968238924154e+32, 3.851091530567603e+32, 3.654687750771427e+32, 3.461067031152152e+32, 3.270209815365193e+32, 3.0820955186422765e+32, 2.896702599566724e+32, 2.7140086291001767e+32, 2.5339903569093607e+32, 2.3566237750443727e+32, 2.182397909009495e+32, 2.012110254496164e+32, 1.8458041646491196e+32, 1.6834078741884904e+32, 1.5248489848770907e+32, 1.3700546460528945e+32, 1.2189517218667023e+32, 1.0714669458469487e+32, 9.285388723721425e+31, 7.915914962319048e+31, 6.6058548741964215e+31, 5.352818615030082e+31, 4.154477420617003e+31, 3.1179898964359266e+31, 2.345957033547289e+31, 1.6546859124213625e+31, 1.0659672267469015e+31, 6.637832843210574e+30, 4.6016342810624075e+30, 3.532325521047308e+30, 2.8176306362353257e+30, 2.3093765584391025e+30, 1.9381565097887457e+30, 1.663041067217266e+30, 1.45677960644797e+30, 1.2998580976841701e+30, 1.1773424376826776e+30, 1.0765890143065149e+30, 9.870176073143138e+29, 9.047231525086518e+29, 8.291796957149172e+29, 7.597809102443054e+29, 6.959861374223406e+29, 6.373398909640038e+29, 5.834265341674709e+29, 5.338646435964509e+29, 4.8830528421821104e+29, 4.4642921298385054e+29, 4.07943549849235e+29, 3.7258071356935545e+29, 3.4009277294983084e+29, 3.1025214945309596e+29, 2.828505005816246e+29, 2.576956353337022e+29, 2.3461131553023654e+29, 2.134348210350793e+29, 1.9401554055190646e+29, 1.7621656218318013e+29, 1.599099376614179e+29, 1.4497843711477148e+29, 1.3131354688125426e+29, 1.1881474485442081e+29, 1.0739020322756146e+29, 9.695450965869473e+28, 8.742918453451913e+28, 7.874122574863476e+28, 7.08236087781586e+28, 6.361458804065312e+28, 5.7056689198587805e+28, 5.1096959123506235e+28, 4.568650989673646e+28, 4.0780138352884815e+28, 3.6336178058063516e+28, 3.2315922970330307e+28, 2.8683848476768825e+28, 2.5407132155827232e+28, 2.245536335506179e+28, 1.9800507961439745e+28]\n",
      "[6.031857894892402e+25, 4.9762267408790476e+26, 1.6587040729238463e+27, 3.9053613608983533e+27, 7.59928198691305e+27, 1.3102004694192723e+28, 2.07748820629593e+28, 3.097904314060408e+28, 4.407535614558964e+28, 6.042439124154711e+28, 8.038638338290245e+28, 1.0432119523580463e+29, 1.3258828017944132e+29, 1.655466453935773e+29, 2.0355481503859708e+29, 2.469707935346079e+29, 2.9615202894632842e+29, 3.51455376480594e+29, 4.132370621033703e+29, 4.818526462832e+29, 5.576569878680192e+29, 6.410042081022763e+29, 7.322476547912724e+29, 8.317398666196184e+29, 9.398325376306743e+29, 1.0568764818737983e+30, 1.1832215982261957e+30, 1.3192168353961072e+30, 1.465210157114034e+30, 1.6215485075186388e+30, 1.7885777767439076e+30, 1.9666427667141058e+30, 2.1560871571529895e+30, 2.3572534718136814e+30, 2.570483044935548e+30, 2.79611598793435e+30, 3.034491156331867e+30, 3.2859461169311284e+30, 3.5508171152433004e+30, 3.82943904317222e+30, 4.122145406962468e+30, 4.42926829541681e+30, 4.7511383483887455e+30, 5.088084725555831e+30, 5.440435075479338e+30, 5.808515504955757e+30, 6.192650548665524e+30, 6.593163139124308e+30, 7.010374576942055e+30, 7.444604501394945e+30, 7.896170861315287e+30, 8.365389886304284e+30, 8.852576058272542e+30, 9.358042083313045e+30, 9.882098863911267e+30, 1.0425055471496967e+31, 1.098721911934211e+31, 1.1568895135809285e+31, 1.217038693795485e+31, 1.2791996005490952e+31, 1.343402185511047e+31, 1.4096762015178805e+31, 1.4780512000796352e+31, 1.5485540968472243e+31, 1.6212055771222334e+31, 1.6960318048082753e+31, 1.7730605134710635e+31, 1.8523191922597912e+31, 1.9338350834960516e+31, 2.017635180314538e+31, 2.103746224355841e+31, 2.192194703511642e+31, 2.28300684972259e+31, 2.3762086368291243e+31, 2.471825778475497e+31, 2.5698837260672274e+31, 2.6704076667822025e+31, 2.7734225216356266e+31, 2.878952943599001e+31, 2.9870233157733e+31, 3.097657749616491e+31, 3.2108800832255356e+31, 3.3267138796729814e+31, 3.4451824253982492e+31, 3.5663087286536964e+31, 3.690115518005522e+31, 3.8166252408895654e+31, 3.94586006222203e+31, 4.0778418630651525e+31, 4.212592239347817e+31, 4.3501325006411e+31, 4.490483668988717e+31, 4.6336664777923225e+31, 4.779701370751603e+31, 4.928608500859087e+31, 5.080407729449581e+31, 5.235118625304112e+31, 5.392760463808274e+31, 5.553352226164822e+31, 5.716912598660371e+31, 5.8834599719860345e+31, 6.05301244061181e+31, 6.225587802214526e+31, 6.401203557159145e+31, 6.579876908033178e+31, 6.761624759233998e+31, 6.946463716608787e+31, 7.134410087146854e+31, 7.325479878724051e+31, 7.519688799898994e+31, 7.717052259760787e+31, 7.917555520965485e+31, 8.121167102043228e+31, 8.327893535538718e+31, 8.537745866855783e+31, 8.75073480621757e+31, 8.966870729509661e+31, 9.186163679183414e+31, 9.408623365218749e+31, 9.634259166145598e+31, 9.863080130123224e+31, 1.0095094976076599e+32, 1.0330312094889035e+32, 1.0568739550650219e+32, 1.0810385081958825e+32, 1.1055256103278856e+32, 1.130335970634885e+32, 1.1554702661643075e+32, 1.1809291419883856e+32, 1.2067132113604127e+32, 1.2328230558759333e+32, 1.2592592256387771e+32, 1.2860222394318468e+32, 1.3131125848925677e+32, 1.3405307186929094e+32, 1.3682770667238834e+32, 1.3963520242844277e+32, 1.4247559562745823e+32, 1.4534891973928634e+32, 1.482552052337742e+32, 1.511944796013132e+32, 1.5416676737377927e+32, 1.5717182736075544e+32, 1.6020841414322127e+32, 1.632760381997541e+32, 1.6637465997229587e+32, 1.6950423697281262e+32, 1.726647238209828e+32, 1.7585607228213353e+32, 1.790782313054098e+32, 1.8233114706216074e+32, 1.8561476298452776e+32, 1.889290198042199e+32, 1.9227385559146064e+32, 1.956492057940921e+32, 1.9905500327682145e+32, 2.0249117836059537e+32, 2.0595765886208822e+32, 2.094543701332896e+32, 2.1298123510117782e+32, 2.1653817430746493e+32, 2.2012510594840032e+32, 2.237419459146192e+32, 2.2738860783102294e+32, 2.3106500309667824e+32, 2.3477104092472255e+32, 2.385065573756904e+32, 2.4226945920432436e+32, 2.460578269816456e+32, 2.4987149167058557e+32, 2.537102828232785e+32, 2.5757402863826405e+32, 2.6146255601713374e+32, 2.6537569062060937e+32, 2.693132569240409e+32, 2.7327507827231316e+32, 2.7726097693415056e+32, 2.8127077415580938e+32, 2.8530429021414868e+32, 2.893613444690703e+32, 2.9344175541531973e+32, 2.9754534073363993e+32, 3.0167191734127055e+32, 3.0582130144178568e+32, 3.0999330857426377e+32, 3.1418775366178386e+32, 3.1840392972399508e+32, 3.2263774451141505e+32, 3.268866249881001e+32, 3.311503097029054e+32, 3.354285386260756e+32, 3.3972105319664115e+32, 3.440275963680792e+32, 3.48347912652262e+32, 3.52681748161714e+32, 3.570288506502027e+32, 3.613889695516861e+32, 3.657618560176407e+32, 3.701472629527964e+32, 3.745449450493013e+32, 3.789546588193431e+32, 3.8337616262625305e+32, 3.87809216714117e+32, 3.9224892354391164e+32, 3.966887977854529e+32, 4.0112803115373614e+32, 4.055663538376862e+32, 4.1000350177091664e+32, 4.1443921658759746e+32, 4.1887324557625165e+32, 4.233053416316014e+32, 4.277352632045805e+32, 4.321627742506274e+32, 4.365876441763689e+32, 4.410096477848038e+32, 4.454285652190891e+32, 4.4984127840543266e+32, 4.5423499257246816e+32, 4.586056353663225e+32, 4.629531248644398e+32, 4.672773900074054e+32, 4.715783702414213e+32, 4.758560151665567e+32, 4.801102841909664e+32, 4.843411461912391e+32, 4.885485791790232e+32, 4.9273256997405146e+32, 4.968808228340296e+32, 5.009735329206246e+32, 5.050087116771208e+32, 5.08987093735991e+32, 5.129094199948208e+32, 5.167764363967463e+32, 5.205888927822868e+32, 5.2434754181002046e+32, 5.2802698341376534e+32, 5.315888945517551e+32, 5.3503226065041155e+32, 5.383612172658037e+32, 5.415797819661767e+32, 5.443929031415791e+32, 5.4651553494290416e+32, 5.4844111028216714e+32, 5.5010299336832856e+32, 5.512528336869236e+32, 5.518431565608918e+32, 5.5215852918681024e+32, 5.523727723787158e+32, 5.525276137778897e+32, 5.5264254471538416e+32, 5.5272910110021104e+32, 5.527950422823986e+32, 5.528460175144284e+32, 5.528864565461898e+32, 5.529202510808676e+32, 5.529507835368818e+32, 5.5297928595761165e+32, 5.530058686140144e+32, 5.530306783528541e+32, 5.5305384681210536e+32, 5.530754823850245e+32, 5.530956853583056e+32, 5.531145492949695e+32, 5.53132161039923e+32, 5.53148601197632e+32, 5.531639448718746e+32, 5.5317826157705844e+32, 5.531916170456334e+32, 5.5320407255166805e+32, 5.532156849577883e+32, 5.532265076520384e+32, 5.532365902908592e+32, 5.532459795451903e+32, 5.532547194391351e+32, 5.532628503726805e+32, 5.532704110073133e+32, 5.5327743724812094e+32, 5.532839629617621e+32, 5.532900201256615e+32, 5.5329563830930476e+32, 5.53300845598554e+32, 5.53305668194815e+32, 5.533101309910817e+32, 5.533142571831792e+32, 5.5331806849734746e+32, 5.533215855962114e+32, 5.5332482784138666e+32, 5.533278134312742e+32, 5.533305595105817e+32, 5.533330821615473e+32, 5.53335396641788e+32, 5.533375171799554e+32, 5.533394571750799e+32, 5.533412292964836e+32, 5.533428454421682e+32]\n"
     ]
    }
   ],
   "source": [
    "EOS = EOS_keys[1]\n",
    "rhos_c = rhos_cs[1]\n",
    "#EOS =EOS.rstrip('/')\n",
    "#file = open(str(EOS)+\"_\"+str(rhos_c)+\".txt\",\"a\")\n",
    "#file.write(\"rs(cm)      ms(Msun)      rhos(g/cc)      Ps(gmc)\")\n",
    "#file.write(\"\")\n",
    "#file.close()\n",
    "rs,rhos,ps,ms = gen_ns(rhos_c,4000,5000,EOS)\n",
    "print(rs)\n",
    "print(rhos)\n",
    "print(ps)\n",
    "print(ms)"
   ]
  },
  {
   "cell_type": "code",
   "execution_count": 54,
   "metadata": {},
   "outputs": [
    {
     "data": {
      "text/plain": [
       "'NS stored'"
      ]
     },
     "execution_count": 54,
     "metadata": {},
     "output_type": "execute_result"
    }
   ],
   "source": [
    "#main function to generate the database\n",
    "\n",
    "for eos_key in EOS_keys:\n",
    "    p_local = get_p_local(eos_key)\n",
    "    rho_local = get_rho_local (eos_key)\n",
    "    for rho_c in rhos_cs:\n",
    "        rs,rhos,ps,ms = gen_ns(rho_c,4000,5000,eos_key)\n",
    "print(\"END OF PROGRAM\")"
   ]
  }
 ],
 "metadata": {
  "kernelspec": {
   "display_name": "base",
   "language": "python",
   "name": "python3"
  },
  "language_info": {
   "codemirror_mode": {
    "name": "ipython",
    "version": 3
   },
   "file_extension": ".py",
   "mimetype": "text/x-python",
   "name": "python",
   "nbconvert_exporter": "python",
   "pygments_lexer": "ipython3",
   "version": "3.11.7"
  }
 },
 "nbformat": 4,
 "nbformat_minor": 2
}
