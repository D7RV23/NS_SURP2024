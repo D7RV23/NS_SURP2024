{
 "cells": [
  {
   "cell_type": "code",
   "execution_count": 1,
   "metadata": {},
   "outputs": [],
   "source": [
    "#ESSENSIALS\n",
    "\n",
    "\n",
    "#importing the needed libraries\n",
    "import pickle\n",
    "import math\n",
    "import numpy as np\n",
    "\n",
    "#importing matplotlib\n",
    "import matplotlib.pyplot as plt\n",
    "from matplotlib.cm import winter\n",
    "\n",
    "%matplotlib inline\n",
    "#gets pickle files from directories\n",
    "pickleContents = open ( r\"C:\\Users\\DGama\\OneDrive\\Documents\\School\\poly\\SURP-2024\\NS_SURP2024\\week_2-3\\eostable.pk\", \"rb\" )\n",
    "eos_db = pickle.load(pickleContents)\n",
    "#print (pickle.keys())"
   ]
  },
  {
   "cell_type": "code",
   "execution_count": 2,
   "metadata": {},
   "outputs": [
    {
     "name": "stdout",
     "output_type": "stream",
     "text": [
      "['DNS_CMF_wcrust/', 'DS_CMF1_wcrust/', 'DS_CMF2_wcrust/', 'DS_CMF3_wcrust/', 'DS_CMF4_wcrust/', 'DS_CMF5_wcrust/', 'DS_CMF6_wcrust/', 'DS_CMF7_wcrust/', 'DS_CMF8_wcrust/', 'OPGR_DDHdeltaY4/', 'OPGR_GM1Y4/', 'OPGR_GM1Y5/', 'OPGR_GM1Y6/', 'QMC-RMF1/', 'QMC-RMF2/', 'QMC-RMF3/', 'QMC-RMF4/', 'R_DD2YDelta_1.1/', 'R_DD2YDelta_1.2/', 'R_DD2YDelta_1.3/']\n"
     ]
    }
   ],
   "source": [
    "#GETTING EOS\n",
    "\n",
    "#My though is to have a 2D list that itself contain the p and rho list for each EOS\n",
    "\n",
    "#maybe copy and paste EVERY KEY manually\n",
    "\n",
    "#EOS_keys = [\"DNS_CMF_wcrust/\", \"DS_CMF1_wcrust/\", \"DS_CMF2_wcrust/\", \"DS_CMF3_wcrust/\", \"DS_CMF4_wcrust/\", \n",
    "#            \"DS_CMF5_wcrust/\", \"DS_CMF6_wcrust/\", \"DS_CMF7_wcrust/\", \"DS_CMF8_wcrust/\", \"OPGR_DDHdeltaY4/\",\n",
    "#            \"OPGR_GM1Y4/\", \"OPGR_GM1Y5/\", \"OPGR_GM1Y6/\", \"QMC-RMF1/\", \"QMC-RMF2/\", \"QMC-RMF3/\", \"QMC-RMF4/\",\n",
    "#            \"R_DD2YDelta_1.1/\", \"R_DD2YDelta_1.2/\", \"R_DD2YDelta_1.3/\"] \n",
    "\n",
    "EOS_keys = []\n",
    "ps_local = []\n",
    "rhos_local =[]\n",
    "#fill out every EOS name\n",
    "for i in eos_db.keys():\n",
    "    EOS_keys.append(i)\n",
    "    \n",
    "print(EOS_keys)\n"
   ]
  },
  {
   "cell_type": "code",
   "execution_count": 4,
   "metadata": {},
   "outputs": [],
   "source": [
    "#getting ps and rho from the EOS\n",
    "\n",
    "def get_p_local(key):\n",
    "    return eos_db[key]['ps']"
   ]
  },
  {
   "cell_type": "code",
   "execution_count": 5,
   "metadata": {},
   "outputs": [],
   "source": [
    "#getting ps and rho from the EOS\n",
    "\n",
    "def get_rho_local(key):\n",
    "    return eos_db[key]['rhos']"
   ]
  },
  {
   "cell_type": "code",
   "execution_count": 7,
   "metadata": {},
   "outputs": [],
   "source": [
    "p_local = get_p_local('DS_CMF1_wcrust/')\n",
    "rho_local = get_rho_local('DS_CMF1_wcrust/')"
   ]
  },
  {
   "cell_type": "code",
   "execution_count": 32,
   "metadata": {},
   "outputs": [],
   "source": [
    "##\n",
    "#rhos to ps subroutine\n",
    "def rho_to_ps(rho_target):\n",
    "    #rho_local = get_rho_local(eos_key)\n",
    "    for x in range(len(rho_local)-1):\n",
    "        \n",
    "        #p_local = x\n",
    "    #first case: when the p_targer is less that the first value of the p_local\n",
    "        if rho_target < rho_local[0]:\n",
    "                rho_target = rho_local[0]\n",
    "                x = 0\n",
    "                break\n",
    "    #second case: when the p_target is greater than the last value of the p_local    \n",
    "        if rho_target >= rho_local[-1]:\n",
    "                #have to do this as otherwise it would try to access a value that does not exist\n",
    "                rho_target = rho_local[-1]\n",
    "                x = len(rho_local)-2\n",
    "                break\n",
    "    #Deafult case, When the rho target is between the given parameters needed\n",
    "        if rho_local[x] < rho_target and rho_local[x+1] > rho_target:\n",
    "                #local = x\n",
    "                break\n",
    "    #Equation used:  \n",
    "    #print(\"p_Local: \",p_local[x])\n",
    "    p_target = p_local[x] + (((p_local[x+1] - p_local[x]) / (rho_local[x+1] - rho_local[x])) * (rho_target - rho_local[x]))\n",
    "    \n",
    "    return p_target\n",
    "##"
   ]
  },
  {
   "cell_type": "code",
   "execution_count": 33,
   "metadata": {},
   "outputs": [],
   "source": [
    "#ps_to_rhos routine\n",
    "def ps_to_rho(p_target):\n",
    "    #p_local = get_p_local(eos_key)\n",
    "    #rho_local = x\n",
    "    for x in range(len(rho_local)-1):\n",
    "    #first case: when the p_targer is less that the first value of the p_local\n",
    "        if p_target < p_local[0]:\n",
    "                p_target = p_local[0]\n",
    "                x = 0\n",
    "                break\n",
    "    #second case: when the p_target is greater than the last value of the p_local    \n",
    "        if p_target >= p_local[-1]:\n",
    "                #have to do this as otherwise it would try to access a value that does not exist\n",
    "                p_target = p_local[-1]\n",
    "                x = len(p_local)-2\n",
    "                break\n",
    "    #Deafult case, When the rho target is between the given parameters needed\n",
    "        if p_local[x] < p_target and p_local[x+1] > p_target:\n",
    "                #local = x\n",
    "                break\n",
    "   # print(\"rho_Local:\",rho_local[x],)\n",
    "    rho_target = rho_local[x] + (((rho_local[x+1] - rho_local[x]) / (p_local[x+1] - p_local[x])) * (p_target - p_local[x]))\n",
    "    return rho_target\n",
    "##"
   ]
  },
  {
   "cell_type": "code",
   "execution_count": 36,
   "metadata": {},
   "outputs": [],
   "source": [
    "##\n",
    "#rhos to ps subroutine\n",
    "def rho_to_ps(rho_target):\n",
    "    for x in range(len(rho_local)-1):\n",
    "        \n",
    "        #p_local = x\n",
    "    #first case: when the p_targer is less that the first value of the p_local\n",
    "        if rho_target < rho_local[0]:\n",
    "                rho_target = rho_local[0]\n",
    "                x = 0\n",
    "                break\n",
    "    #second case: when the p_target is greater than the last value of the p_local    \n",
    "        if rho_target >= rho_local[-1]:\n",
    "                #have to do this as otherwise it would try to access a value that does not exist\n",
    "                rho_target = rho_local[-1]\n",
    "                x = len(rho_local)-2\n",
    "                break\n",
    "    #Deafult case, When the rho target is between the given parameters needed\n",
    "        if rho_local[x] < rho_target and rho_local[x+1] > rho_target:\n",
    "                #local = x\n",
    "                break\n",
    "    #Equation used:  \n",
    "    #print(\"p_Local: \",p_local[x])\n",
    "    p_target = p_local[x] + (((p_local[x+1] - p_local[x]) / (rho_local[x+1] - rho_local[x])) * (rho_target - rho_local[x]))\n",
    "    \n",
    "    return p_target\n",
    "##"
   ]
  },
  {
   "cell_type": "code",
   "execution_count": 12,
   "metadata": {},
   "outputs": [],
   "source": [
    "#dp function\n",
    "def dPdr(ps, rhos ,rs,  ms):\n",
    "    #speed of ligth\n",
    "    c = 2.99792458e10\n",
    "    #Gravitational constant\n",
    "    G = 6.6743e-8\n",
    "    #Pi\n",
    "    pi = math.pi\n",
    "\n",
    "    \n",
    "    mr = ms\n",
    "    r = rs\n",
    "    rho = rhos\n",
    "    p = ps\n",
    "    #dPdr equation\n",
    "    dPdr = (-(G*mr*rho)/(r**2))*(1+(p)/(rho*c**2))*(1+((4*pi*r**3*p)/(mr*c**2)))*((1-((2*G*mr)/(c**2*r)))**-1)\n",
    "    return dPdr"
   ]
  },
  {
   "cell_type": "code",
   "execution_count": 13,
   "metadata": {},
   "outputs": [],
   "source": [
    "#dm function\n",
    "def dmdr(rs,rhos):\n",
    "    \"\"\"Find the dmdr for future equations\n",
    "\n",
    "    INPUT: rs as radius, and rhos for density    \n",
    "    OUTPUT: the dmdr using the corresponding values\n",
    "    NOTES: using 'math.pi' for calculations\n",
    "    \"\"\"\n",
    "    r = rs\n",
    "    rho = rhos\n",
    "    #dmdr equation\n",
    "    dmdr = 4*math.pi*r**2*rho\n",
    "    return dmdr"
   ]
  },
  {
   "cell_type": "code",
   "execution_count": 14,
   "metadata": {},
   "outputs": [],
   "source": [
    "\n",
    "def find_mass(ms):\n",
    "    return ms[-1]\n",
    "def find_radius(rs):\n",
    "    return rs[-1]"
   ]
  },
  {
   "cell_type": "code",
   "execution_count": 15,
   "metadata": {},
   "outputs": [],
   "source": [
    "#Runge-Kutta Routine\n",
    "\n",
    "def runge_kutta(rho_c,dr,loops = 20000,debug=0):\n",
    "    \"\"\"\n",
    "    INPUT:\n",
    "        'rho_c' as 'rho'(density).'dr' as r,'loops' as the number of iterations preformed, set to 10000 by deafult.\n",
    "    OUTPUT:\n",
    "        rs,rhos,ps,ms arrays, containing the gatherd data from doing Runge Kutta method on Tolman\n",
    "        Oppenheimer Volkoff equation. \n",
    "        \n",
    "    \"\"\" \n",
    "    loop = loops\n",
    "    #get the values from the end user to the function\n",
    "    r = dr\n",
    "    rho = rho_c\n",
    "    #Constants\n",
    "    #\n",
    "    #speed of ligth\n",
    "    c = 2.99792458e10\n",
    "    #Gravitational constant\n",
    "    G = 6.6743e-8\n",
    "    #Pi\n",
    "    pi = math.pi\n",
    "    #\n",
    "    p = rho_to_ps(rho)\n",
    "    #value of mr, im assuming that this will remain the same from euler method\n",
    "    mr = 4.0 /3.0 * pi * r**3 * rho\n",
    "    #\n",
    "    #array creation for storing the values for model analizys\n",
    "    rs = [r]\n",
    "    rhos = [rho]\n",
    "    ps = [p]\n",
    "    ms = [mr]\n",
    "   ### \n",
    "\n",
    "   #To the poor person reading this code in a year or 2, i added the ability to declare the loop iterations because I felt lazy \n",
    "   #from having tochange that value every time i changed dr,I dont know why i did not do this to begin with but i digress\n",
    "   # Dingo 24/6/2024\n",
    "\n",
    "\n",
    "   #another note, I added a bool called debug, so it would not print out if the limit of the function has been broken every time i run this\n",
    "   #subroutine, if you modify this then that oculd eb used for other debug purposes i suppose\n",
    "   # Dingo 26/6/2026\n",
    "    for i in range (loops):\n",
    "\n",
    "        #rk i function\n",
    "        dPdr_1 = dPdr(p,rho,r,mr)\n",
    "        dmdr_1 = dmdr(r,rho)\n",
    "        #rk i values\n",
    "        mr_1 = mr + dmdr_1 * dr*(1/2)\n",
    "        p_1 = p + dPdr_1 * dr*(1/2)\n",
    "\n",
    "        rho_1 = ps_to_rho(p_1)\n",
    "        r_1 = r + dr*(1/2)\n",
    "\n",
    "\n",
    "\n",
    "        #rk ii function\n",
    "        dPdr_2 = dPdr(p_1,rho_1,r_1,mr_1)\n",
    "        dmdr_2 = dmdr(r_1,rho_1)\n",
    "        #rk ii values\n",
    "\n",
    "        mr_2 = mr_1 + dmdr_2 * dr*(1/2)\n",
    "        p_2 = p_1 + dPdr_2 * dr*(1/2)\n",
    "\n",
    "        rho_2 = ps_to_rho(p_2)\n",
    "        r_2 = r_1 + dr*(1/2)\n",
    "\n",
    "\n",
    "\n",
    "        #rk iii function\n",
    "        dPdr_3 = dPdr(p_2,rho_2,r_2,mr_2)\n",
    "        dmdr_3 = dmdr(r_2,rho_2)\n",
    "        #rk iii values\n",
    "        mr_3 = mr_2 + dmdr_3 * dr\n",
    "        p_3 = p_2 + dPdr_3 * dr\n",
    "\n",
    "        rho_3 = ps_to_rho(p_3)\n",
    "        r_3 = r_2 + dr\n",
    "\n",
    "\n",
    "        \n",
    "        #rk iv function\n",
    "        dPdr_4 = dPdr(p,rho,r,mr)\n",
    "        dmdr_4 = dmdr(r,rho)\n",
    "        #rk iv values\n",
    "        mr_4 = mr_3 + dmdr_4 * dr*(1/2)\n",
    "        p_4 = p_3 + dPdr_4 * dr*(1/2)\n",
    "\n",
    "        rho_4 = ps_to_rho(p_4)\n",
    "        r_4 = r_3 + dr\n",
    "\n",
    "        #get new values\n",
    "\n",
    "        m_new = mr + ((dmdr_1/6)+(dmdr_2/3)+(dmdr_3/3)+(dmdr_4/6)) * dr\n",
    "        r_new = r + dr\n",
    "        p_new = p + ((dPdr_1/6)+(dPdr_2/3)+(dPdr_3/3)+(dPdr_4/6)) * dr\n",
    "        \n",
    "        rho_new = ps_to_rho(p_new)\n",
    "# append the new data\n",
    "        rs.append(r_new)\n",
    "        ps.append(p_new)\n",
    "        ms.append(m_new)\n",
    "        rhos.append(rho_new)\n",
    "        \n",
    "        # replace old by your new values\n",
    "        r = r_new\n",
    "        rho = rho_new\n",
    "        p = p_new\n",
    "        mr = m_new\n",
    "        if rho < 1e-4 * rho_c:\n",
    "            #following 2 lines should be commented after debugging is done\n",
    "            if debug == 1:\n",
    "                print(\"break condition met!\")\n",
    "                print(rho , \" < \", 1**-4*rho_c)\n",
    "            break\n",
    "    \n",
    "    return rs, rhos, ps, ms     \n",
    "\n"
   ]
  },
  {
   "cell_type": "code",
   "execution_count": 17,
   "metadata": {},
   "outputs": [],
   "source": [
    "p_local = get_p_local('DS_CMF1_wcrust/')\n",
    "rho_local = get_rho_local ('DS_CMF1_wcrust/')"
   ]
  },
  {
   "cell_type": "code",
   "execution_count": 30,
   "metadata": {},
   "outputs": [],
   "source": [
    "#gen ns function\n",
    "def gen_ns(rho_c,ds,loops,eos_key):\n",
    "    \"\"\"\n",
    "\n",
    "\n",
    "    \"\"\"\n",
    "    p_local = get_p_local(eos_key)\n",
    "    rho_local = get_rho_local (eos_key)\n",
    "    rs, rhos, ps, ms = runge_kutta(rho_c,ds,loops)\n",
    "    return rs,rhos,ps,ms"
   ]
  },
  {
   "cell_type": "code",
   "execution_count": 43,
   "metadata": {},
   "outputs": [],
   "source": [
    "def print_ns_MR(radius,mass):\n",
    "\n",
    "    #radius = np.array(radius) / 1e5\n",
    "    #mass = np.array(mass) / 2e33\n",
    "    fig, ax = plt.subplots(ncols=1, nrows=1)\n",
    "    x = radius\n",
    "    ax.set_xlabel('Radius rhos')\n",
    "    # Y-axis values \n",
    "    y = mass\n",
    "    ax.set_ylabel('Solar mass ms')\n",
    "    # Function to plot \n",
    "    ax.plot(x, y, \"-o\")\n",
    "    # function to show the plot \n",
    "    # plt.show()\n",
    "    return plt"
   ]
  },
  {
   "cell_type": "code",
   "execution_count": 53,
   "metadata": {},
   "outputs": [],
   "source": [
    "def store_NS():\n",
    "    \"\"\"\n",
    "    INPUT:  take data from a genetated Neutron Star model\n",
    "    OUTPUT: Store the information into a .txt document, to prevent from having to compile the data multiple times\n",
    "    \"\"\"\n",
    "    file = open(\"test.txt\",\"w\")\n",
    "    file.write(\"this is a test\")\n",
    "    file.close()\n",
    "\n",
    "    return (\"NS stored\")"
   ]
  },
  {
   "cell_type": "code",
   "execution_count": 39,
   "metadata": {},
   "outputs": [
    {
     "data": {
      "text/plain": [
       "<module 'matplotlib.pyplot' from 'c:\\\\Users\\\\DGama\\\\anaconda3\\\\Lib\\\\site-packages\\\\matplotlib\\\\pyplot.py'>"
      ]
     },
     "execution_count": 39,
     "metadata": {},
     "output_type": "execute_result"
    },
    {
     "data": {
      "image/png": "[encoded data removed]",
      "text/plain": [
       "<Figure size 640x480 with 1 Axes>"
      ]
     },
     "metadata": {},
     "output_type": "display_data"
    }
   ],
   "source": [
    "rs, rhos, ps, ms = gen_ns(1e15,4000,5000,'DS_CMF1_wcrust/')\n",
    "find_mass(ms)\n",
    "find_radius(rs)\n",
    "\n",
    "print_ns_MR(rs,ms)\n"
   ]
  },
  {
   "cell_type": "code",
   "execution_count": 48,
   "metadata": {},
   "outputs": [],
   "source": [
    "def gen_ns_MR(key_nb):\n",
    "\n",
    "        rhos_cs=[2e14,2.25e14,2.5e14,2.75e14,3e14,3.25e14,3.5e14,3.75e14,4e14,4.25e14,4.5e14,4.75e14,5e14,5.5e14,\n",
    "                6e14,6.5e14,7e14,7.5e14,8e14,8.5e14,9e14,9.5e14,10e14,10.5e14,\n",
    "                11e14,12e14,13e14,14e14,15e14,16e14,17e14,18e14,19e14,20e14,\n",
    "                21e14,22e14,23e14,24e14,25e14,26e14,27e14,28e14,29e14,30e14]\n",
    "        mass_cs = []   \n",
    "        radius_cs = []\n",
    "        for z in rhos_cs:\n",
    "                rs,rhos,ps,ms= gen_ns(z,2000,10000,EOS_keys[key_nb])\n",
    "                mass_cs.append(find_mass(ms)/2e33)\n",
    "                radius_cs.append(find_radius(rs)/1e5)\n",
    "        return radius_cs, mass_cs"
   ]
  },
  {
   "cell_type": "code",
   "execution_count": 49,
   "metadata": {},
   "outputs": [
    {
     "data": {
      "image/png": "[encoded data removed]",
      "text/plain": [
       "<Figure size 640x480 with 1 Axes>"
      ]
     },
     "metadata": {},
     "output_type": "display_data"
    }
   ],
   "source": [
    "radius_cs, mass_cs = gen_ns_MR(1)\n",
    "print_ns_MR(radius_cs,mass_cs )\n",
    "plt.show()"
   ]
  },
  {
   "cell_type": "code",
   "execution_count": 54,
   "metadata": {},
   "outputs": [
    {
     "data": {
      "text/plain": [
       "'NS stored'"
      ]
     },
     "execution_count": 54,
     "metadata": {},
     "output_type": "execute_result"
    }
   ],
   "source": [
    "store_NS()"
   ]
  }
 ],
 "metadata": {
  "kernelspec": {
   "display_name": "base",
   "language": "python",
   "name": "python3"
  },
  "language_info": {
   "codemirror_mode": {
    "name": "ipython",
    "version": 3
   },
   "file_extension": ".py",
   "mimetype": "text/x-python",
   "name": "python",
   "nbconvert_exporter": "python",
   "pygments_lexer": "ipython3",
   "version": "3.11.7"
  }
 },
 "nbformat": 4,
 "nbformat_minor": 2
}
