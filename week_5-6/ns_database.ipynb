{
 "cells": [
  {
   "cell_type": "code",
   "execution_count": null,
   "metadata": {},
   "outputs": [],
   "source": [
    "#ESSENSIALS\n",
    "\n",
    "\n",
    "#importing the needed libraries\n",
    "import pickle\n",
    "import math\n",
    "import numpy as np\n",
    "\n",
    "#importing matplotlib\n",
    "import matplotlib.pyplot as plt\n",
    "from matplotlib.cm import winter\n",
    "\n",
    "%matplotlib inline\n",
    "#gets pickle files from directories\n",
    "pickleContents = open ( r\"C:\\Users\\DGama\\OneDrive\\Documents\\School\\poly\\SURP-2024\\NS_SURP2024\\week_2-3\\eostable.pk\", \"rb\" )\n",
    "\n",
    "pickle = pickle.load(pickleContents)"
   ]
  }
 ],
 "metadata": {
  "language_info": {
   "name": "python"
  }
 },
 "nbformat": 4,
 "nbformat_minor": 2
}
