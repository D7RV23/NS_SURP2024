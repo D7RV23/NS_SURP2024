{
 "cells": [
  {
   "cell_type": "code",
   "execution_count": 12,
   "metadata": {},
   "outputs": [
    {
     "name": "stdout",
     "output_type": "stream",
     "text": [
      "dict_keys(['DNS_CMF_wcrust/', 'DS_CMF1_wcrust/', 'DS_CMF2_wcrust/', 'DS_CMF3_wcrust/', 'DS_CMF4_wcrust/', 'DS_CMF5_wcrust/', 'DS_CMF6_wcrust/', 'DS_CMF7_wcrust/', 'DS_CMF8_wcrust/', 'OPGR_DDHdeltaY4/', 'OPGR_GM1Y4/', 'OPGR_GM1Y5/', 'OPGR_GM1Y6/', 'QMC-RMF1/', 'QMC-RMF2/', 'QMC-RMF3/', 'QMC-RMF4/', 'R_DD2YDelta_1.1/', 'R_DD2YDelta_1.2/', 'R_DD2YDelta_1.3/'])\n"
     ]
    }
   ],
   "source": [
    "#ESSENSIALS\n",
    "\n",
    "\n",
    "#importing the needed libraries\n",
    "import pickle\n",
    "import math\n",
    "import numpy as np\n",
    "\n",
    "#importing matplotlib\n",
    "import matplotlib.pyplot as plt\n",
    "from matplotlib.cm import winter\n",
    "\n",
    "%matplotlib inline\n",
    "#gets pickle files from directories\n",
    "pickleContents = open ( r\"C:\\Users\\DGama\\OneDrive\\Documents\\School\\poly\\SURP-2024\\NS_SURP2024\\week_2-3\\eostable.pk\", \"rb\" )\n",
    "pickle = pickle.load(pickleContents)\n",
    "#print (pickle.keys())"
   ]
  },
  {
   "cell_type": "code",
   "execution_count": 19,
   "metadata": {},
   "outputs": [
    {
     "name": "stdout",
     "output_type": "stream",
     "text": [
      "[<built-in method keys of dict object at 0x000002979EB3A580>, <built-in method keys of dict object at 0x000002979EB3A580>, <built-in method keys of dict object at 0x000002979EB3A580>, <built-in method keys of dict object at 0x000002979EB3A580>, <built-in method keys of dict object at 0x000002979EB3A580>, <built-in method keys of dict object at 0x000002979EB3A580>, <built-in method keys of dict object at 0x000002979EB3A580>, <built-in method keys of dict object at 0x000002979EB3A580>, <built-in method keys of dict object at 0x000002979EB3A580>, <built-in method keys of dict object at 0x000002979EB3A580>, <built-in method keys of dict object at 0x000002979EB3A580>, <built-in method keys of dict object at 0x000002979EB3A580>, <built-in method keys of dict object at 0x000002979EB3A580>, <built-in method keys of dict object at 0x000002979EB3A580>, <built-in method keys of dict object at 0x000002979EB3A580>, <built-in method keys of dict object at 0x000002979EB3A580>, <built-in method keys of dict object at 0x000002979EB3A580>, <built-in method keys of dict object at 0x000002979EB3A580>, <built-in method keys of dict object at 0x000002979EB3A580>, <built-in method keys of dict object at 0x000002979EB3A580>]\n"
     ]
    }
   ],
   "source": [
    "#GETTING EOS\n",
    "\n",
    "#My though is to have a 2D list that itself contain the p and rho list for each EOS\n",
    "\n",
    "#maybe copy and paste EVERY KEY manually\n",
    "\n",
    "#EOS_keys = [\"DNS_CMF_wcrust/\", \"DS_CMF1_wcrust/\", \"DS_CMF2_wcrust/\", \"DS_CMF3_wcrust/\", \"DS_CMF4_wcrust/\", \n",
    "#            \"DS_CMF5_wcrust/\", \"DS_CMF6_wcrust/\", \"DS_CMF7_wcrust/\", \"DS_CMF8_wcrust/\", \"OPGR_DDHdeltaY4/\",\n",
    "#            \"OPGR_GM1Y4/\", \"OPGR_GM1Y5/\", \"OPGR_GM1Y6/\", \"QMC-RMF1/\", \"QMC-RMF2/\", \"QMC-RMF3/\", \"QMC-RMF4/\",\n",
    "#            \"R_DD2YDelta_1.1/\", \"R_DD2YDelta_1.2/\", \"R_DD2YDelta_1.3/\"] \n",
    "\n",
    "EOS_keys = []\n",
    "ps_local = []\n",
    "rhos_local =[]\n",
    "#fill out every EOS name\n",
    "for i in pickle.keys():\n",
    "    EOS_keys.append(pickle.keys)\n",
    "    \n",
    "print(EOS_keys)\n"
   ]
  },
  {
   "cell_type": "code",
   "execution_count": null,
   "metadata": {},
   "outputs": [],
   "source": [
    "#getting ps and rho from the EOS\n",
    "\n",
    "def get_p_local():\n",
    "    p_local = []\n",
    "    return p_local[]"
   ]
  },
  {
   "cell_type": "code",
   "execution_count": null,
   "metadata": {},
   "outputs": [],
   "source": [
    "#ps_to_rhos routine\n",
    "def ps_to_rho(p_target):\n",
    "    p_local = get_p_local()\n",
    "    #rho_local = x\n",
    "    for x in range(len(rho_local)-1):\n",
    "    #first case: when the p_targer is less that the first value of the p_local\n",
    "        if p_target < p_local[0]:\n",
    "                p_target = p_local[0]\n",
    "                x = 0\n",
    "                break\n",
    "    #second case: when the p_target is greater than the last value of the p_local    \n",
    "        if p_target >= p_local[-1]:\n",
    "                #have to do this as otherwise it would try to access a value that does not exist\n",
    "                p_target = p_local[-1]\n",
    "                x = len(p_local)-2\n",
    "                break\n",
    "    #Deafult case, When the rho target is between the given parameters needed\n",
    "        if p_local[x] < p_target and p_local[x+1] > p_target:\n",
    "                #local = x\n",
    "                break\n",
    "   # print(\"rho_Local:\",rho_local[x],)\n",
    "    rho_target = rho_local[x] + (((rho_local[x+1] - rho_local[x]) / (p_local[x+1] - p_local[x])) * (p_target - p_local[x]))\n",
    "    return rho_target\n",
    "##"
   ]
  },
  {
   "cell_type": "code",
   "execution_count": null,
   "metadata": {},
   "outputs": [],
   "source": [
    "##\n",
    "#rhos to ps subroutine\n",
    "def rho_to_ps(rho_target):\n",
    "    for x in range(len(rho_local)-1):\n",
    "        \n",
    "        #p_local = x\n",
    "    #first case: when the p_targer is less that the first value of the p_local\n",
    "        if rho_target < rho_local[0]:\n",
    "                rho_target = rho_local[0]\n",
    "                x = 0\n",
    "                break\n",
    "    #second case: when the p_target is greater than the last value of the p_local    \n",
    "        if rho_target >= rho_local[-1]:\n",
    "                #have to do this as otherwise it would try to access a value that does not exist\n",
    "                rho_target = rho_local[-1]\n",
    "                x = len(rho_local)-2\n",
    "                break\n",
    "    #Deafult case, When the rho target is between the given parameters needed\n",
    "        if rho_local[x] < rho_target and rho_local[x+1] > rho_target:\n",
    "                #local = x\n",
    "                break\n",
    "    #Equation used:  \n",
    "    #print(\"p_Local: \",p_local[x])\n",
    "    p_target = p_local[x] + (((p_local[x+1] - p_local[x]) / (rho_local[x+1] - rho_local[x])) * (rho_target - rho_local[x]))\n",
    "    \n",
    "    return p_target\n",
    "##"
   ]
  }
 ],
 "metadata": {
  "kernelspec": {
   "display_name": "base",
   "language": "python",
   "name": "python3"
  },
  "language_info": {
   "codemirror_mode": {
    "name": "ipython",
    "version": 3
   },
   "file_extension": ".py",
   "mimetype": "text/x-python",
   "name": "python",
   "nbconvert_exporter": "python",
   "pygments_lexer": "ipython3",
   "version": "3.11.7"
  }
 },
 "nbformat": 4,
 "nbformat_minor": 2
}
